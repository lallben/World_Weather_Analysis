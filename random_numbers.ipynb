{
 "cells": [
  {
   "cell_type": "code",
   "execution_count": 1,
   "id": "4d1a729f",
   "metadata": {},
   "outputs": [],
   "source": [
    "import random\n",
    "import numpy as np"
   ]
  },
  {
   "cell_type": "code",
   "execution_count": 2,
   "id": "d7d9b6f8",
   "metadata": {},
   "outputs": [
    {
     "data": {
      "text/plain": [
       "-47"
      ]
     },
     "execution_count": 2,
     "metadata": {},
     "output_type": "execute_result"
    }
   ],
   "source": [
    "random.randint(-90,90)"
   ]
  },
  {
   "cell_type": "code",
   "execution_count": 3,
   "id": "f80d5ce6",
   "metadata": {},
   "outputs": [
    {
     "data": {
      "text/plain": [
       "0.24455662259660482"
      ]
     },
     "execution_count": 3,
     "metadata": {},
     "output_type": "execute_result"
    }
   ],
   "source": [
    "random.random()"
   ]
  },
  {
   "cell_type": "code",
   "execution_count": 9,
   "id": "9609a388",
   "metadata": {},
   "outputs": [
    {
     "data": {
      "text/plain": [
       "-43.77066386900881"
      ]
     },
     "execution_count": 9,
     "metadata": {},
     "output_type": "execute_result"
    }
   ],
   "source": [
    "random_number=random.randint(-90,90)+random.random()\n",
    "random_number"
   ]
  },
  {
   "cell_type": "code",
   "execution_count": 22,
   "id": "ec9d27bd",
   "metadata": {},
   "outputs": [
    {
     "data": {
      "text/plain": [
       "[18.42752157235444,\n",
       " 53.94993902676146,\n",
       " -1.8179214020106305,\n",
       " -7.514413083408581,\n",
       " 77.36224114043216,\n",
       " 57.606617153729616,\n",
       " 90.39284525377833,\n",
       " -39.95808565261512,\n",
       " 74.90525501450306,\n",
       " -36.22859549699983,\n",
       " 71.12616325050396]"
      ]
     },
     "execution_count": 22,
     "metadata": {},
     "output_type": "execute_result"
    }
   ],
   "source": [
    "latitudes = []\n",
    "x = 0\n",
    "while x < 11:\n",
    "    random_lat = random.randint(-90, 90) + random.random()\n",
    "    latitudes.append(random_lat)\n",
    "    x += 1\n",
    "latitudes"
   ]
  },
  {
   "cell_type": "code",
   "execution_count": 12,
   "id": "124f9ecc",
   "metadata": {},
   "outputs": [
    {
     "data": {
      "text/plain": [
       "15"
      ]
     },
     "execution_count": 12,
     "metadata": {},
     "output_type": "execute_result"
    }
   ],
   "source": [
    "random.randrange(-90,90, step=1)"
   ]
  },
  {
   "cell_type": "code",
   "execution_count": 13,
   "id": "5b575648",
   "metadata": {},
   "outputs": [
    {
     "data": {
      "text/plain": [
       "-40.560973089214336"
      ]
     },
     "execution_count": 13,
     "metadata": {},
     "output_type": "execute_result"
    }
   ],
   "source": [
    "random.uniform(-90,90)"
   ]
  },
  {
   "cell_type": "code",
   "execution_count": 14,
   "id": "d70f690a",
   "metadata": {},
   "outputs": [
    {
     "data": {
      "text/plain": [
       "array([ 87.38044725,   8.30417174,  58.39807081,  74.1340648 ,\n",
       "       -63.09960595,   3.89691103,  79.7088036 , -52.25528318,\n",
       "        37.94465808,  72.66987742,   1.87007741,  61.44472134,\n",
       "       -64.20892252,  35.0986263 , -73.04473558, -51.50776153,\n",
       "       -69.5219774 , -19.31338792,  69.38841999, -25.34863789,\n",
       "        69.42060014,  20.57654347,  -0.86260939, -66.17723117,\n",
       "        -6.16498375,  35.80538843,  24.2018768 , -17.42933764,\n",
       "        23.54963238,  29.15336851,  29.00302835, -34.09893788,\n",
       "        51.13439238,  28.86756315, -49.61564169, -60.08477747,\n",
       "       -49.60394831,  70.5418651 , -12.95543621,  30.24896751,\n",
       "        70.2407541 ,  39.87506505, -40.1851264 , -31.77942526,\n",
       "        35.94035102,  63.93273123,  56.545718  , -64.23266253,\n",
       "        12.43528356,   7.41345334])"
      ]
     },
     "execution_count": 14,
     "metadata": {},
     "output_type": "execute_result"
    }
   ],
   "source": [
    "np.random.uniform(-90.000, 90.000, size=50)"
   ]
  },
  {
   "cell_type": "code",
   "execution_count": 16,
   "id": "f0dd8b0d",
   "metadata": {},
   "outputs": [
    {
     "name": "stdout",
     "output_type": "stream",
     "text": [
      "40.9 µs ± 292 ns per loop (mean ± std. dev. of 7 runs, 10000 loops each)\n"
     ]
    }
   ],
   "source": [
    "%timeit np.random.uniform(-90.000, 90.000, size=1500) "
   ]
  },
  {
   "cell_type": "code",
   "execution_count": 17,
   "id": "a8679ff6",
   "metadata": {},
   "outputs": [
    {
     "name": "stdout",
     "output_type": "stream",
     "text": [
      "4.66 ms ± 159 µs per loop (mean ± std. dev. of 7 runs, 100 loops each)\n"
     ]
    }
   ],
   "source": [
    "def latitudes(size):\n",
    "    latitudes = []\n",
    "    x = 0\n",
    "    while x < (size):\n",
    "        random_lat = random.randint(-90, 90) + random.random()\n",
    "        latitudes.append(random_lat)\n",
    "        x += 1\n",
    "    return latitudes\n",
    "# Call the function with 1500.\n",
    "%timeit latitudes(1500)"
   ]
  },
  {
   "cell_type": "code",
   "execution_count": null,
   "id": "902535f0",
   "metadata": {},
   "outputs": [],
   "source": []
  }
 ],
 "metadata": {
  "kernelspec": {
   "display_name": "PythonData",
   "language": "python",
   "name": "pythondata"
  },
  "language_info": {
   "codemirror_mode": {
    "name": "ipython",
    "version": 3
   },
   "file_extension": ".py",
   "mimetype": "text/x-python",
   "name": "python",
   "nbconvert_exporter": "python",
   "pygments_lexer": "ipython3",
   "version": "3.7.0"
  }
 },
 "nbformat": 4,
 "nbformat_minor": 5
}
